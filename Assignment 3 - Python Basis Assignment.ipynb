{
 "cells": [
  {
   "cell_type": "code",
   "execution_count": null,
   "id": "4dbb4ba2",
   "metadata": {},
   "outputs": [],
   "source": [
    "Q1. Why are functions advantageous to have in your programs?"
   ]
  },
  {
   "cell_type": "code",
   "execution_count": null,
   "id": "257802a7",
   "metadata": {},
   "outputs": [],
   "source": [
    "Ans1. Here are some key reasons why functions are advantageous to have in our programs:\n",
    "    \n",
    "1. Modularity and Reusability: \n",
    "    Functions allow you to break down a complex program into smaller,\n",
    "    This modularity makes your code easier to read, understand, and maintain. \n",
    "    Moreover, when we create functions for specific tasks, we can reuse those functions across different parts of your program.\n",
    "\n",
    "2. Abstraction: \n",
    "    Functions abstract away the underlying implementation details. \n",
    "    When you call a function, you don't need to know how it's implemented. We only need to know what it does.    \n",
    "\n",
    "3. Readability and Maintainability: \n",
    "    Well-named functions make your code more readable and self-documenting.\n",
    "    This makes it easier for us and others to understand the code's intention.\n",
    "\n",
    "4. Parameterization: \n",
    "    Functions can accept parameters, allowing you to create flexible and customizable behavior. \n",
    "    By passing different arguments to the same function, you can achieve different outcomes without duplicating code."
   ]
  },
  {
   "cell_type": "code",
   "execution_count": null,
   "id": "11a1c2d5",
   "metadata": {},
   "outputs": [],
   "source": [
    "Q2. When does the code in a function run: when it's specified or when it's called ?"
   ]
  },
  {
   "cell_type": "code",
   "execution_count": null,
   "id": "d1b377a4",
   "metadata": {},
   "outputs": [],
   "source": [
    "Ans2. When it's called. The actual execution of the code within the function happens when you invoke (call) the function in your code."
   ]
  },
  {
   "cell_type": "code",
   "execution_count": null,
   "id": "cf28bc99",
   "metadata": {},
   "outputs": [],
   "source": [
    "Q3. What statement creates a function?"
   ]
  },
  {
   "cell_type": "code",
   "execution_count": null,
   "id": "5a12229c",
   "metadata": {},
   "outputs": [],
   "source": [
    "Ans3. \n",
    "In Python, we create a function using the def statement. The def statement is used to define a function, and it specifies the name of the function, any parameters it accepts, and the block of code that constitutes the function's body. \n",
    "\n",
    "Here's the syntax for creating a function in Python:\n",
    "def function_name(parameters):\n",
    "    # Function body\n",
    "    # Code to be executed \n",
    "    # ...\n",
    "\n",
    "Example of a function definition:\n",
    "    def Welcome(name):\n",
    "    print(f\"Hello, {name}!!\")\n",
    "\n",
    "#Calling the function\n",
    "Welcome(\"Mayank\")\n"
   ]
  },
  {
   "cell_type": "code",
   "execution_count": null,
   "id": "3fb87652",
   "metadata": {},
   "outputs": [],
   "source": [
    "Q4. What is the difference between a function and a function call?"
   ]
  },
  {
   "cell_type": "code",
   "execution_count": null,
   "id": "0d9870dd",
   "metadata": {},
   "outputs": [],
   "source": [
    "Ans4. In Python, a function and a function call are two different concepts that are related with each other.\n",
    "\n",
    "1. Function: \n",
    "    A function is a block of organized, reusable code that performs a specific task. \n",
    "    It is defined using the def statement and consists of a function name, parameter list (optional), and a block of code that specifies the behavior of the function.\n",
    "    \n",
    "    Example :\n",
    "        def Welcome(name):\n",
    "            print(f\"Hello, {name}!\")\n",
    "\n",
    "2. Function Call: \n",
    "    A function call is the act of executing a function that has been defined previously. \n",
    "    Here, we provide the necessary arguments (if any) as input, and the function's code is executed according to its definition.\n",
    "    \n",
    "    Example:\n",
    "        Welcome(\"Mayank\")\n"
   ]
  },
  {
   "cell_type": "code",
   "execution_count": null,
   "id": "68ac184c",
   "metadata": {},
   "outputs": [],
   "source": [
    "Q5. How many global scopes are there in a Python program? How many local scopes?"
   ]
  },
  {
   "cell_type": "code",
   "execution_count": null,
   "id": "3507e4fd",
   "metadata": {},
   "outputs": [],
   "source": [
    "Ans5. In a Python program, there is one global scope and multiple local scopes. Each function or code block within the program creates its own local scope \n",
    "\n",
    "Global Scope :\n",
    "Variables defined in the global scope are accessible throughout the entire program, including within functions. They are typically defined outside of any functions or classes. \n",
    "Variables in the global scope can be accessed and modified from any part of the program.\n",
    "\n",
    "Local Scope: \n",
    "Local scopes are created within functions or other code blocks. Variables defined within a local scope are only accessible within that specific function or block. \n",
    "Once the function or block is exited, the local variables are destroyed, and they cannot be accessed from outside that scope."
   ]
  },
  {
   "cell_type": "code",
   "execution_count": null,
   "id": "19273f9f",
   "metadata": {},
   "outputs": [],
   "source": [
    "Q6. What happens to variables in a local scope when the function call returns?"
   ]
  },
  {
   "cell_type": "code",
   "execution_count": null,
   "id": "0f7cca97",
   "metadata": {},
   "outputs": [],
   "source": [
    "Ans6. \n",
    "When a function call returns in Python, the variables that were defined within the local scope of that function are deallocated or destroyed. \n",
    "In other words, local variables are only accessible and meaningful within the context of the function where they were defined. Once the function call finishes executing and returns a value, the local variables are destroyed, and their memory is released."
   ]
  },
  {
   "cell_type": "code",
   "execution_count": null,
   "id": "2111808e",
   "metadata": {},
   "outputs": [],
   "source": [
    "Q7. What is the concept of a return value? Is it possible to have a return value in an expression?"
   ]
  },
  {
   "cell_type": "code",
   "execution_count": null,
   "id": "86eb5a69",
   "metadata": {},
   "outputs": [],
   "source": [
    "Ans7. The concept of a return value in programming refers to the value that a function gives back to the caller when the function is executed. \n",
    "      In Python, you can use the return statement within a function to specify what value the function should return. \n",
    "\n",
    "Yes, it is possible to have a return value in an expression. \n",
    "\n",
    "Example:\n",
    "def square(x):\n",
    "    return x ** 2\n",
    "\n",
    "result = square(4) + square(3)\n",
    "print(\"Result:\", result)\n"
   ]
  },
  {
   "cell_type": "code",
   "execution_count": null,
   "id": "d27584da",
   "metadata": {},
   "outputs": [],
   "source": [
    "Q8. If a function does not have a return statement, what is the return value of a call to that function?"
   ]
  },
  {
   "cell_type": "code",
   "execution_count": null,
   "id": "2703adf8",
   "metadata": {},
   "outputs": [],
   "source": [
    "Ans8. If a function in Python does not have a return statement, its return value is None. None is a special object in Python that represents the absence of a value. "
   ]
  },
  {
   "cell_type": "code",
   "execution_count": null,
   "id": "ee63d814",
   "metadata": {},
   "outputs": [],
   "source": [
    "Q9. How do you make a function variable refer to the global variable?"
   ]
  },
  {
   "cell_type": "code",
   "execution_count": null,
   "id": "ba2216ad",
   "metadata": {},
   "outputs": [],
   "source": [
    "Ans9. If you want to make a function variable refer to a global variable, you can use the global keyword inside the function."
   ]
  },
  {
   "cell_type": "code",
   "execution_count": null,
   "id": "ac50dcdf",
   "metadata": {},
   "outputs": [],
   "source": [
    "Q10. What is the data type of None?"
   ]
  },
  {
   "cell_type": "code",
   "execution_count": null,
   "id": "3487eb22",
   "metadata": {},
   "outputs": [],
   "source": [
    "Ans10. The data type of None is : NoneType"
   ]
  },
  {
   "cell_type": "code",
   "execution_count": null,
   "id": "19f7c005",
   "metadata": {},
   "outputs": [],
   "source": [
    "Q11. What does the sentence import areallyourpetsnamederic do?"
   ]
  },
  {
   "cell_type": "code",
   "execution_count": null,
   "id": "0eeb373c",
   "metadata": {},
   "outputs": [],
   "source": [
    "Ans11. \n",
    "\n",
    "The sentence \"import areallyourpetsnamederic\" does not have any built-in meaning or standard functionality in Python. \n",
    "It's not a standard library or module name, and it's not recognized by the Python interpreter.\n",
    "\n",
    "The sentence \"import areallyourpetsnamederic\" is a valid Python statement that attempts to import a module named areallyourpetsnamederic\n",
    "However, unless you have a module named areallyourpetsnamederic available in your Python environment, this import statement will result in an ImportError indicating that the module could not be found."
   ]
  },
  {
   "cell_type": "code",
   "execution_count": null,
   "id": "ab30dc26",
   "metadata": {},
   "outputs": [],
   "source": [
    "Q12. If you had a bacon() feature in a spam module, what would you call it after importing spam?"
   ]
  },
  {
   "cell_type": "code",
   "execution_count": null,
   "id": "72588234",
   "metadata": {},
   "outputs": [],
   "source": [
    "Ans12.\n",
    "\n",
    "import spam\n",
    "\n",
    "spam.bacon()\n"
   ]
  },
  {
   "cell_type": "code",
   "execution_count": null,
   "id": "7413fe06",
   "metadata": {},
   "outputs": [],
   "source": [
    "Q13. What can you do to save a programme from crashing if it encounters an error?"
   ]
  },
  {
   "cell_type": "code",
   "execution_count": null,
   "id": "f55ecf25",
   "metadata": {},
   "outputs": [],
   "source": [
    "Ans13. To prevent a Python program from crashing when it encounters an error, we can implement error handling techniques :\n",
    "    \n",
    "1. Try-Except Blocks: \n",
    "Wrap the code that might raise an exception within a try block, and then specify how to handle the exception in an except block. \n",
    "This way, if an exception occurs, our program won't crash but will instead execute the code within the except block. \n",
    "\n",
    "2. Handle Specific Exceptions: \n",
    "Instead of catching all exceptions, catch specific exceptions that you anticipate might occur. \n",
    "\n",
    "3. Finally Block: \n",
    "We can include a finally block after the try and except blocks. The code within the finally block will be executed regardless of whether an exception occurred or not. This can be used for cleanup tasks.\n",
    "\n",
    "By using these error handling techniques, we can ensure that your Python program continues to run and provide informative error messages instead of crashing when it encounters unexpected situations."
   ]
  },
  {
   "cell_type": "code",
   "execution_count": null,
   "id": "db677d7b",
   "metadata": {},
   "outputs": [],
   "source": [
    "Q14. What is the purpose of the try clause? What is the purpose of the except clause?"
   ]
  },
  {
   "cell_type": "code",
   "execution_count": null,
   "id": "89649120",
   "metadata": {},
   "outputs": [],
   "source": [
    "Ans14. In Python, the try and except clauses are used together to implement error handlings.\n",
    "\n",
    "1. Purpose of the try Clause:\n",
    "The try clause is used to enclose a block of code that might raise exceptions. If an exception occurs within the try block, the program doesn't immediately terminate; instead, the control is transferred to the corresponding except block (if one exists) to handle the exception.\n",
    "\n",
    "Example :\n",
    "try:\n",
    "    # Code that might raise an exception\n",
    "    result = 10 / 0  # Division by zero will raise a ZeroDivisionError\n",
    "except ZeroDivisionError:\n",
    "    print(\"Error: Division by zero\")\n",
    "    \n",
    "2. Purpose of the except Clause:\n",
    "The except clause is used to specify what should be done if a specific exception occurs within the associated try block. It provides a way to handle exceptions and recover from them, rather than allowing the program to crash. We can have multiple except blocks to handle different types of exceptions.\n",
    "\n",
    "Example :\n",
    "try:\n",
    "    # Code that might raise an exception\n",
    "    result = int(\"abc\")  # This will raise a ValueError\n",
    "except ValueError:\n",
    "    print(\"Error: Invalid value\")"
   ]
  }
 ],
 "metadata": {
  "kernelspec": {
   "display_name": "Python 3 (ipykernel)",
   "language": "python",
   "name": "python3"
  },
  "language_info": {
   "codemirror_mode": {
    "name": "ipython",
    "version": 3
   },
   "file_extension": ".py",
   "mimetype": "text/x-python",
   "name": "python",
   "nbconvert_exporter": "python",
   "pygments_lexer": "ipython3",
   "version": "3.11.3"
  }
 },
 "nbformat": 4,
 "nbformat_minor": 5
}
